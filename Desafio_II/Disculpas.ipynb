{
 "cells": [
  {
   "cell_type": "markdown",
   "id": "ddcdef5c",
   "metadata": {},
   "source": [
    "## Disculpas formales:\n",
    "\n",
    "Me disculpo sinceramente por el hecho de que el trabajo presentado no cumpla en su totalidad con los requisitos establecidos en el enunciado del proyecto. Como estudiante de Ingeniería en Telecomunicaciones de la Universidad de Antioquia, estoy plenamente consciente de la importancia de cumplir con los plazos y estándares académicos, y reconozco que esta situación representa una falla personal en mi responsabilidad y compromiso con el curso. Lamento de corazón cualquier inconveniente o carga adicional que esto haya podido generar en su labor evaluativa o en el flujo del grupo.\n",
    "\n",
    "Permítame contextualizar brevemente las circunstancias que llevaron a este desenlace, sin pretender excusarme, sino para ofrecer transparencia. Durante la semana previa al plazo de entrega parcial (17 de octubre de 2025), mi equipo de desarrollo —compuesto por mí mismo y colaboradores externos— experimentó un fallo técnico crítico en el equipo principal de cómputo. Este incidente involucró una corrupción inesperada en el disco duro principal, lo que requirió una restauración completa del sistema operativo y la recuperación de datos respaldados. El proceso de mantenimiento se extendió por varios días más de lo anticipado, interrumpiendo por completo el avance en la implementación de componentes clave como las entidades avanzadas (Artistas, Álbumes y Canciones) y las estructuras de datos personalizadas sin STL. A pesar de mis esfuerzos por mitigar el impacto trabajando en sesiones alternativas y utilizando recursos limitados, no logré compensar el tiempo perdido de manera efectiva. Este imprevisto no solo afectó el cronograma, sino que también impactó mi concentración y productividad, lo cual agrava mi responsabilidad en no haber anticipado estas posibles fallass.\n",
    "\n",
    "Entiendo perfectamente que estas dificultades no eximen mi obligación de entregar un producto completo y alineado con las expectativas del desafío. Soy completamente consciente de que mi entrega parcial solo cubre aspectos básicos como el sistema de usuarios, login, reproducción simulada y anuncios ponderados, recurriendo indebidamente a la STL de C++ y omitiendo elementos fundamentales como herencia, polimorfismo y la persistencia en rutas de Linux. Esta brecha no refleja el nivel de preparación que he adquirido en el curso, y me duele reconocer que no he honrado el esfuerzo invertido en las clases previas ni el valor educativo del proyecto.\n",
    "\n",
    "No obstante, en medio de estas limitaciones, me complace destacar que el núcleo funcional del sistema incluyendo la diferenciación de menús por membresía, la simulación de reproducción con temporizadores reales y la integración de anuncios aleatorios opera de manera estable y demuestra un entendimiento práctico de los conceptos iniciales de POO y manejo de archivos. Adjunto a esta carta una documentación mejorada (en formato Markdown para Jupyter), que detalla con precisión qué se implementó, qué quedó a medias y qué no se abordó, junto con un plan de mejoras futuras. Esta reflexión ha sido un ejercicio valioso para mí, reforzando mi compromiso con el aprendizaje continuo y la mejora personal.\n",
    "\n",
    "Por todo lo anterior, le solicito humildemente una oportunidad para realizar la sustentación oral del proyecto. Estoy convencido de que, en una presentación en vivo, podré demostrar no solo el funcionamiento de las partes implementadas, sino también mi comprensión teórica de los elementos pendientes, como el diseño de clases heredadas para entidades o la implementación de listas enlazadas propias. Esta instancia me permitiría cerrar el ciclo de aprendizaje del desafío de manera constructiva, recibiendo retroalimentación directa que enriquezca mi desarrollo profesional. Estoy disponible en cualquier horario que se ajuste a su agenda, ya sea de forma presencial o virtual, y me comprometo a preparar materiales adicionales si lo considera necesario.\n",
    "\n",
    "Agradezco de antemano su comprensión, paciencia y consideración ante esta petición. Valoro inmensamente su guía en este curso y el espacio que brinda para el crecimiento académico, incluso en momentos de tropiezos. Quedo a la espera de su respuesta y, nuevamente, le reitero mis disculpas más sinceras."
   ]
  }
 ],
 "metadata": {
  "language_info": {
   "name": "python"
  }
 },
 "nbformat": 4,
 "nbformat_minor": 5
}
