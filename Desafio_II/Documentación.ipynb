{
 "cells": [
  {
   "cell_type": "markdown",
   "id": "87af3a80-bf44-49dd-a192-99651a2ea02c",
   "metadata": {},
   "source": [
    "# Documentación del desafío #2\n",
    "\n",
    "## De que trataba el desafío\n",
    "\n",
    "El Desafío II consistía en el diseño e implementación de un simulador de servicio de streaming musical llamado \"UdeATunes\", inspirado en plataformas como Spotify, utilizando Programación Orientada a Objetos (POO) en C++ y el framework de Qt-Creator. El objetivo principal era crear un sistema completo que manejara usuarios (estándar, con anuncios y calidad baja de audio a 128kbps; y premium, sin anuncios, calidad alta a 320kbps y listas de favoritos con hasta 10.000 canciones), artistas (con ID de 5 dígitos, seguidores y tendencias), álbumes (con géneros, portadas y puntuaciones), canciones (con IDs únicos de 9 dígitos, rutas de audio en .ogg, créditos y reproducciones), listas de favoritos (solo para premium) y anuncios (hasta 50, con tipos ponderados C, B y AAA que aparecen aleatoriamente para usuarios estándar cada dos canciones). \n",
    "\n",
    "Las restricciones clave incluían no usar la STL de C++ (implementar estructuras de datos propias como listas enlazadas, árboles binarios y arrays dinámicos para eficiencia y control de memoria), gestionar memoria dinámica manualmente, persistir datos en archivos CSV con rutas absolutas de  (Que no uso debido a que ahora mismo mi sistema es Windows11), y aplicar conceptos POO como abstracción, encapsulación, herencia, polimorfismo, sobrecarga de operadores y plantillas. Además, se debía medir métricas como iteraciones y uso de memoria, simular reproducción con temporizadores reales (3 segundos por canción).\n",
    "\n",
    "La entrega parcial (hasta el 17 de octubre de 2025) se centraba en el análisis del problema (entidades, relaciones y desafíos como el manejo de memoria sin STL o anuncios ponderados), un plan de desarrollo por fases con pruebas. En resumen, era un reto para demostrar dominio de POO en C++ puro (con Qt Creator y Git), priorizando eficiencia, escalabilidad y mantenibilidad, culminando en un programa funcional que simula un ecosistema de streaming completo y medible. Que si bien empece tarde debido a problemas técnicos, considero que me he esforzado en la realización de la entrega. Espero cumpla con los estandares del profesor.\n",
    "\n",
    "\n",
    "## Mi código:\n",
    "\n",
    "El sistema planteado en el desafío #2 debía simular un ecosistema de streaming con las siguientes entidades y características:\n",
    "\n",
    "### Entidades Principales\n",
    "- **Usuarios**: \n",
    "  - Estándar (anuncios cada 2 canciones, audio a 128kbps).\n",
    "  - Premium (sin anuncios, audio a 320kbps, listas de favoritos con hasta 10.000 canciones).\n",
    "- **Artistas**: ID de 5 dígitos, número de seguidores, tendencias.\n",
    "- **Álbumes**: Géneros (hasta 4), portadas (PNG), puntuaciones.\n",
    "- **Canciones**: ID único de 9 dígitos, rutas de audio (.ogg), créditos (con enum), conteo de reproducciones.\n",
    "- **Listas de Favoritos**: Exclusivas para premium; opción de seguir listas de otros usuarios.\n",
    "- **Anuncios**: Hasta 50, con prioridades ponderadas (C: Con una prioridad de x1, B: Con una prioridad de x2, AAA: Con una prioridad de x3); dichos anuncios debían aparecee aleatoriamente para usuarios estándar cada dos canciones.\n",
    "\n",
    "### Requisitos Técnicos\n",
    "- **Estructuras de Datos**: Implementar propias (listas enlazadas, árboles binarios, arrays dinámicos) sin STL para eficiencia y control de memoria. Si bien, he intentado cumplir con este indice lo más posible me he visto en la necesidad de usar algunass librerias (`iostream`, `fstream`, `direct.h`, etc)\n",
    "- **POO**: Abstracción, encapsulación, herencia (e.g., clase base Usuario), polimorfismo, sobrecarga de operadores, plantillas.\n",
    "- **Persistencia**: Archivos CSV con rutas absolutas de Linux; medición de métricas (iteraciones, uso de memoria).\n",
    "- **Simulación**: Temporizadores reales (3 segundos por canción con `chrono`), que si bien no uso `chrono` si uso `ctime`.\n",
    "\n",
    "## Entonces, teniendo en cuenta lo anterior ¿Qué se Implementó, Implementó a Medias y No se Implementó?\n",
    "\n",
    "\n",
    "| Categoría | Requisito Clave | Estado | Detalles de Implementación |\n",
    "|-----------|-----------------|--------|----------------------------|\n",
    "| **Sistema de Usuarios y Login** | Clase Usuario con campos; registro/login; detección de membresía; menús diferenciados. | **Implementado (80%)** | Clase `usuario` con encapsulación básica (getters/setters). Registro guarda en `usuarios.txt` (formato CSV-like). Login busca coincidencias y usa `obtenerTipoMembresia()` para detectar tipo. Menús diferenciados: premium (5 opciones) vs. regular (2). Limpieza de buffer con `cin.ignore()`. **Faltante:** Herencia (no Usuario base). |\n",
    "| **Reproducción de Música** | Simulación con temporizador (3s); conteo para anuncios; rutas .ogg (128/320kbps); ID 9 dígitos; créditos (enum); reproducciones. | **Implementado (80%)** | `reproducir_cancion()` usa `Sleep(3000)` y `ctime` para medir tiempo real; genera ID de 9 dígitos con `generar_id_cancion()`; incrementa `contador_canciones` global. Diferencia premium (sin anuncios) vs. regular. Enum `Creditos` definido. **Faltante:** Integración de struct `Cancion` (solo definida, no usada); no usa `chrono` full ni rutas .ogg reales; no conteo por canción específica. |\n",
    "| **Anuncios** | Carga desde archivo; ponderación (AAA x3, B x2, C x1); aleatorio, límite 500 chars; cada 2 canciones (estándar); hasta 50; medición de memoria. | **Implementado (95%)** | `cargar_anuncios()` lee `anuncios.txt`, pondera repeticiones en array fijo `[1000]`. `anuncios()` selecciona aleatorio (`rand()` con `srand(time(NULL))`) evitando repeticiones (array `anuncios_mostrados`). Límite de 500 chars aplicado. Medición básica de `memoria_usada` (tamaño strings + sizeof(int)*2) y display. Integrado en reproducción. **Faltante:** Límite estricto de 50 anuncios (usa 1000). |\n",
    "| **Favoritos Premium** | Listas por usuario (máx. 10k); agregar/ver/seguir; persistencia; sin duplicados. | **Implementado (90%)** | Array fijo `favoritos_premium[1000]` con struct (`nickname`, `canciones[10000]`, `total_canciones`). `cargar_favoritos_premium()` y `guardar_favoritos_premium()` usan `favoritos.txt` con separador `|`. `agregar_favorito()` busca usuario, verifica duplicados, aplica límite 10k. `mostrar_favoritos_usuario()` lista numerada. Menú permite agregar/ver propios/ver de otros. **Faltante:** \"Seguir\" listas formal (solo ver); no reproducción aleatoria en favoritos. |\n",
    "| **Búsqueda en Directorio** | Escanear carpetas (premium vs. regular); mostrar rutas/contenido .txt. | **Implementado (80%)** | `buscar_canciones_en_directorio()` usa `<dirent.h>` para escanear rutas Windows hardcoded. Muestra rutas y lee .txt si coincide (con `string::find`). Opcional post-reproducción. **Faltante:** Rutas Linux; no maneja .ogg reales; no géneros/portadas. |\n",
    "| **Persistencia y Flujo General** | Archivos TXT/CSV; carga inicial; menú principal con switch. | **Implementado (85%)** | Persistencia en TXT para usuarios/anuncios/favoritos. Carga inicial en `main()`. Flujo con loops `while` y `switch`. **Faltante:** CSV estricto; rutas Linux; medición de iteraciones globales. |\n",
    "| **Estructuras de Datos y POO Avanzada** | Sin STL; listas enlazadas/árboles/arrays dinámicos; herencia/polimorfismo/plantillas; gestión manual de memoria. | **Implementado a Medias (50%)** | Eliminada STL (`vector`); usa arrays fijos (e.g., `[1000]` para anuncios/favoritos) con índices manuales. Gestión básica de memoria (inicialización de arrays). POO básica (clase simple + enum); sin herencia, polimorfismo, sobrecarga, plantillas. **Avance:** Arrays simulan \"arrays dinámicos\" con contadores (`total_anuncios`, `total_usuarios_favoritos`). |\n",
    "| **Entidades Clave (Artista, Álbum, Canción)** | IDs específicos; seguidores/géneros/portadas/créditos/reproducciones. | **Implementado a Medias (30%)** | Struct `Cancion` definida (nombre, artista, id, credito enum, reproducciones, ruta_archivo), pero no integrada (no usada en funciones). IDs generados en reproducción. **Faltante:** Clases `Artista` (ID 5 dígitos, seguidores), `Album` (géneros[4], portada, puntuación); no herencia entre entidades. |\n",
    "| **Simulación Avanzada** | Temporizadores `chrono`; reproducción aleatoria en favoritos; pruebas unitarias. | **Implementado a Medias (40%)** | Usa `ctime` y `Sleep`; no `chrono` full ni aleatoriedad en favoritos. No pruebas (unitarias/integración/estrés). |\n",
    "| **Otras Funcionalidades** | Cambiar membresía; max. 10k en favoritos; seguir listas. | **Implementado a Medias (40%)** | Límite 10k en favoritos aplicado. Opción 3 en menú principal: \"en desarrollo\". No seguimiento formal de listas. |\n",
    "\n",
    "### Resumen en Porcentajes\n",
    "- **Implementado Total:** ~75% (avances en estructuras sin STL, medición de memoria, IDs y favoritos robustos; núcleo funcional estable).\n",
    "- **Parcial:** Estructuras/POO. Considero que mi entrega cumple con los estandares establecidos en el desafío2\n",
    "\n",
    "## Materiales y Recursos Utilizados\n",
    "- **Librerías C++:** `<iostream>`, `<fstream>`, `<string>`, `<ctime>`, `<windows.h>`, `<dirent.h>`, `<cstdlib>` (para `rand`/`srand`).\n",
    "- **Herramientas:** Qt Creator (build con MinGW 64-bit); rutas Windows hardcoded (e.g., `C:\\\\Users\\\\dav98\\\\...`).\n",
    "- **Archivos de Datos:** `usuarios.txt`, `anuncios.txt`, `favoritos.txt`; directorios `Canciones_premium` y `Canciones_regulares` (con archivos .txt que simulan las canciones).\n",
    "\n",
    "Muchas gracias, espero que mi trabajo funcione con lo esperado por ustedes."
   ]
  },
  {
   "cell_type": "code",
   "execution_count": null,
   "id": "385ed6e6-9d27-4c41-95bb-bd6f7785de39",
   "metadata": {
    "vscode": {
     "languageId": "python"
    }
   },
   "outputs": [],
   "source": []
  }
 ],
 "metadata": {
  "kernelspec": {
   "display_name": "",
   "name": ""
  },
  "language_info": {
   "name": ""
  }
 },
 "nbformat": 4,
 "nbformat_minor": 5
}
